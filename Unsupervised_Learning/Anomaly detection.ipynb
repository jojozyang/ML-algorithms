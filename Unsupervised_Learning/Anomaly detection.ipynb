{
 "cells": [
  {
   "cell_type": "markdown",
   "id": "7cd432bf-5125-4929-b316-75b413671fbf",
   "metadata": {},
   "source": [
    "# Anomaly detection\n",
    "\n",
    "This notebook contains the code for anomaly detection.\n",
    "\n",
    "The code is adapted from Andrew Ng's 'Machine Learning Specialiation' course to accomplish the homework assignment. \n",
    "\n",
    "\n",
    "# Outline\n",
    "- [ 1 - Import Packages](#1)\n",
    "- [ 2 - Load the Data](#2)\n",
    "- [ 3 - Main Functions](#3)\n",
    "- [ 4 - Train the Agent](#5)\n",
    "- [ 5 - Visualize the results](#4)"
   ]
  },
  {
   "cell_type": "markdown",
   "id": "0acb68fa-a7d6-4863-9a38-db78b0cd3e4a",
   "metadata": {},
   "source": [
    "<a name=\"1\"></a>\n",
    "## 1 - Import Packages"
   ]
  },
  {
   "cell_type": "code",
   "execution_count": null,
   "id": "1e84c814-809c-40b7-817b-ee37a92e7522",
   "metadata": {},
   "outputs": [],
   "source": [
    "import numpy as np"
   ]
  },
  {
   "cell_type": "markdown",
   "id": "acc4efa5-b583-494a-987e-6cc45183d2eb",
   "metadata": {},
   "source": [
    "<a name=\"3\"></a>\n",
    "## 3 - Main Functions"
   ]
  },
  {
   "cell_type": "code",
   "execution_count": null,
   "id": "9d5450aa-7193-45b5-9fe7-2d2dae1ead90",
   "metadata": {},
   "outputs": [],
   "source": [
    "def estimate_gaussian(X): \n",
    "    \"\"\"\n",
    "    Calculates mean and variance of all features \n",
    "    in the dataset\n",
    "    \n",
    "    Args:\n",
    "        X (ndarray): (m, n) Data matrix\n",
    "    \n",
    "    Returns:\n",
    "        mu (ndarray): (n,) Mean of all features\n",
    "        var (ndarray): (n,) Variance of all features\n",
    "    \"\"\"\n",
    "\n",
    "    m, n = X.shape\n",
    "    mu = np.mean(X, axis=0)\n",
    "    var = np.var(X, axis=0)\n",
    "      \n",
    "    return mu, var"
   ]
  },
  {
   "cell_type": "code",
   "execution_count": null,
   "id": "4ae53bcf-398a-42db-ad69-788d23afc6df",
   "metadata": {},
   "outputs": [],
   "source": [
    "def select_threshold(y_val, p_val): \n",
    "    \"\"\"\n",
    "    Finds the best threshold to use for selecting outliers \n",
    "    based on the results from a validation set (p_val) \n",
    "    and the ground truth (y_val)\n",
    "    \n",
    "    Args:\n",
    "        y_val (ndarray): Ground truth on validation set\n",
    "        p_val (ndarray): Results on validation set\n",
    "        \n",
    "    Returns:\n",
    "        epsilon (float): Threshold chosen \n",
    "        F1 (float):      F1 score by choosing epsilon as threshold\n",
    "    \"\"\" \n",
    "\n",
    "    best_epsilon = 0\n",
    "    best_F1 = 0\n",
    "    F1 = 0  \n",
    "    step_size = (max(p_val) - min(p_val)) / 1000\n",
    "    for epsilon in np.arange(min(p_val), max(p_val), step_size):\n",
    "        predictions = (p_val < epsilon) # true (value is 1) if anomaly  \n",
    "        fp = sum((predictions == 1) & (y_val == 0)) \n",
    "        fn = sum((predictions == 0) & (y_val == 1))\n",
    "        tp = sum((predictions == 1) & (y_val == 1))\n",
    "        \n",
    "        prec = tp / (fp + tp)\n",
    "        rec = tp / (tp + fn)\n",
    "        F1 = 2 * prec * rec / (prec + rec) \n",
    "        \n",
    "        if F1 > best_F1:\n",
    "            best_F1 = F1\n",
    "            best_epsilon = epsilon\n",
    "        \n",
    "    return best_epsilon, best_F1"
   ]
  },
  {
   "cell_type": "markdown",
   "id": "43c2d1a9-0cc9-45f9-9524-fa750db9771d",
   "metadata": {},
   "source": [
    "<a name=\"4\"></a>\n",
    "## 4 - Train the Agent"
   ]
  },
  {
   "cell_type": "code",
   "execution_count": null,
   "id": "a70f7fc6-0aa1-4ccf-9bcb-3ffcf603d531",
   "metadata": {},
   "outputs": [],
   "source": [
    "p_val = multivariate_gaussian(X_val, mu, var)\n",
    "epsilon, F1 = select_threshold(y_val, p_val)"
   ]
  }
 ],
 "metadata": {
  "kernelspec": {
   "display_name": "Python 3 (ipykernel)",
   "language": "python",
   "name": "python3"
  },
  "language_info": {
   "codemirror_mode": {
    "name": "ipython",
    "version": 3
   },
   "file_extension": ".py",
   "mimetype": "text/x-python",
   "name": "python",
   "nbconvert_exporter": "python",
   "pygments_lexer": "ipython3",
   "version": "3.11.4"
  }
 },
 "nbformat": 4,
 "nbformat_minor": 5
}
