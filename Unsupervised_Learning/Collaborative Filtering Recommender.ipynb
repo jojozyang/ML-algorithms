{
 "cells": [
  {
   "cell_type": "markdown",
   "id": "7cd432bf-5125-4929-b316-75b413671fbf",
   "metadata": {},
   "source": [
    "# Collaborative filtering recommender\n",
    "\n",
    "In this notebook, collaborative filtering recommender will be implemented.\n",
    "\n",
    "The code is adapted fromAndrew Ng's 'Machine Learning Specialiation' course to accomplish the homework assignment. \n",
    "\n",
    "\n",
    "# Outline\n",
    "- [ 1 - Import Packages](#1)\n",
    "- [ 2 - Goals and Data](#2)\n",
    "- [ 3 - Main Functions](#3)\n",
    "- [ 4 - Helper Functions](#4)\n",
    "- [ 5 - Training](#5)"
   ]
  },
  {
   "cell_type": "markdown",
   "id": "0acb68fa-a7d6-4863-9a38-db78b0cd3e4a",
   "metadata": {},
   "source": [
    "<a name=\"1\"></a>\n",
    "## 1 - Import Packages"
   ]
  },
  {
   "cell_type": "code",
   "execution_count": 1,
   "id": "1e84c814-809c-40b7-817b-ee37a92e7522",
   "metadata": {},
   "outputs": [
    {
     "name": "stderr",
     "output_type": "stream",
     "text": [
      "2023-07-31 20:20:24.676980: I tensorflow/core/platform/cpu_feature_guard.cc:182] This TensorFlow binary is optimized to use available CPU instructions in performance-critical operations.\n",
      "To enable the following instructions: AVX2 FMA, in other operations, rebuild TensorFlow with the appropriate compiler flags.\n"
     ]
    }
   ],
   "source": [
    "import numpy as np\n",
    "import tensorflow as tf\n",
    "from tensorflow import keras"
   ]
  },
  {
   "cell_type": "markdown",
   "id": "57f64687-942a-42f0-b58b-c8d5167fbf12",
   "metadata": {},
   "source": [
    "<a name=\"2\"></a>\n",
    "## 2 - Goals and Data "
   ]
  },
  {
   "cell_type": "markdown",
   "id": "af81ae35-9798-4b1b-85be-f0aec632604e",
   "metadata": {},
   "source": [
    "The goal of a collaborative filtering recommender system is to generate two vectors: For each user, a 'parameter vector' that embodies the movie tastes of a user. For each movie, a feature vector of the same size which embodies some description of the movie. The dot product of the two vectors plus the bias term should produce an estimate of the rating the user might give to that movie.\n",
    "\n",
    "Once the feature vectors and parameters are learned, they can be used to predict how a user might rate an unrated movie."
   ]
  },
  {
   "cell_type": "markdown",
   "id": "18ac5c2f-e018-451b-84f0-1a79dc7ad297",
   "metadata": {},
   "source": [
    "Data:\n",
    "<br>\n",
    "X (ndarray (num_movies,num_features)): matrix of item features\n",
    "<br>\n",
    "W (ndarray (num_users,num_features)) : matrix of user parameters\n",
    "<br>\n",
    "b (ndarray (1, num_users)            : vector of user parameters\n",
    "<br>\n",
    "Y (ndarray (num_movies,num_users)    : matrix of user ratings of movies\n",
    "<br>\n",
    "R (ndarray (num_movies,num_users)    : matrix, where R(i, j) = 1 if the i-th movies was rated by the j-th user"
   ]
  },
  {
   "cell_type": "markdown",
   "id": "acc4efa5-b583-494a-987e-6cc45183d2eb",
   "metadata": {},
   "source": [
    "<a name=\"3\"></a>\n",
    "## 3 - Main Functions"
   ]
  },
  {
   "cell_type": "code",
   "execution_count": null,
   "id": "3ad6b49a-ec37-4ba4-813d-a4af41da8857",
   "metadata": {},
   "outputs": [],
   "source": [
    "def cofi_cost_func(X, W, b, Y, R, lambda_):\n",
    "    \"\"\"\n",
    "    Returns the cost for the content-based filtering\n",
    "    lambda_ (float): regularization parameter\n",
    "    J (float) : Cost\n",
    "    \"\"\"\n",
    "    nm, nu = Y.shape\n",
    "    nf = X.shape[1]\n",
    "    J = 0\n",
    "    wk = 0\n",
    "    xk = 0\n",
    "\n",
    "    for i in range (nm): \n",
    "        for j in range (nu):\n",
    "            J += R[i,j] * (np.dot(W[j], X[i]) + b[0,j] - Y[i,j])**2    \n",
    "            for k in range (nf):\n",
    "                if i == 0:\n",
    "                    wk += W[j,k] ** 2\n",
    "                if j == 0:\n",
    "                    xk += X[i,k] ** 2\n",
    "    \n",
    "    wk = lambda_ /2 * wk\n",
    "    xk = lambda_ /2 * xk\n",
    "    J = 1/2 * J + wk + xk  \n",
    "\n",
    "    return J"
   ]
  },
  {
   "cell_type": "code",
   "execution_count": 2,
   "id": "44b5cace-6c4d-48bd-8671-5f6415cda245",
   "metadata": {},
   "outputs": [],
   "source": [
    "# Vectorized Implementation\n",
    "def cofi_cost_func_v(X, W, b, Y, R, lambda_):\n",
    "    \"\"\"\n",
    "    Returns the cost for the content-based filtering\n",
    "    Vectorized for speed. Uses tensorflow operations to be compatible with custom training loop.\n",
    "    \"\"\"\n",
    "    j = (tf.linalg.matmul(X, tf.transpose(W)) + b - Y)*R\n",
    "    J = 0.5 * tf.reduce_sum(j**2) + (lambda_/2) * (tf.reduce_sum(X**2) + tf.reduce_sum(W**2))\n",
    "    return J"
   ]
  },
  {
   "cell_type": "markdown",
   "id": "a3070b3b-34e3-4894-8b4d-41a9959fe580",
   "metadata": {},
   "source": [
    "<a name=\"4\"></a>\n",
    "## 4 - Helper Functions"
   ]
  },
  {
   "cell_type": "code",
   "execution_count": null,
   "id": "99842a8c-998a-4862-b792-456f3e0afc0f",
   "metadata": {},
   "outputs": [],
   "source": [
    "def normalizeRatings(Y, R):\n",
    "    \"\"\"\n",
    "    Preprocess data by subtracting mean rating for every movie (every row).\n",
    "    Only include real ratings R(i,j)=1.\n",
    "    [Ynorm, Ymean] = normalizeRatings(Y, R) normalized Y so that each movie\n",
    "    has a rating of 0 on average. Unrated moves then have a mean rating (0)\n",
    "    Returns the mean rating in Ymean.\n",
    "    \"\"\"\n",
    "    Ymean = (np.sum(Y*R, axis=1)/(np.sum(R, axis=1) + 1e-12)).reshape(-1,1)\n",
    "    Ynorm = Y - np.multiply(Ymean, R) \n",
    "    return(Ynorm, Ymean)"
   ]
  },
  {
   "cell_type": "markdown",
   "id": "43c2d1a9-0cc9-45f9-9524-fa750db9771d",
   "metadata": {},
   "source": [
    "<a name=\"5\"></a>\n",
    "## 5 - Training"
   ]
  },
  {
   "cell_type": "code",
   "execution_count": null,
   "id": "a70f7fc6-0aa1-4ccf-9bcb-3ffcf603d531",
   "metadata": {},
   "outputs": [],
   "source": [
    "# Normalize the Dataset\n",
    "Ynorm, Ymean = normalizeRatings(Y, R)\n",
    "\n",
    "#  Useful Values\n",
    "num_movies, num_users = Y.shape\n",
    "num_features = 100\n",
    "\n",
    "# Set Initial Parameters (W, X), use tf.Variable to track these variables\n",
    "tf.random.set_seed(1234) # for consistent results\n",
    "W = tf.Variable(tf.random.normal((num_users,  num_features),dtype=tf.float64),  name='W')\n",
    "X = tf.Variable(tf.random.normal((num_movies, num_features),dtype=tf.float64),  name='X')\n",
    "b = tf.Variable(tf.random.normal((1,          num_users),   dtype=tf.float64),  name='b')\n",
    "\n",
    "# Instantiate an optimizer.\n",
    "optimizer = keras.optimizers.Adam(learning_rate=1e-1)"
   ]
  },
  {
   "cell_type": "code",
   "execution_count": null,
   "id": "60cafc5c-f213-4327-8e18-a40e63088fbd",
   "metadata": {},
   "outputs": [],
   "source": [
    "iterations = 200\n",
    "lambda_ = 1\n",
    "for iter in range(iterations):\n",
    "    # Use TensorFlow’s GradientTape\n",
    "    # to record the operations used to compute the cost \n",
    "    with tf.GradientTape() as tape:\n",
    "\n",
    "        # Compute the cost (forward pass included in cost)\n",
    "        cost_value = cofi_cost_func_v(X, W, b, Ynorm, R, lambda_)\n",
    "\n",
    "    # Use the gradient tape to automatically retrieve\n",
    "    # the gradients of the trainable variables with respect to the loss\n",
    "    grads = tape.gradient( cost_value, [X,W,b] )\n",
    "\n",
    "    # Run one step of gradient descent by updating\n",
    "    # the value of the variables to minimize the loss.\n",
    "    optimizer.apply_gradients( zip(grads, [X,W,b]) )\n",
    "\n",
    "    # Log periodically.\n",
    "    if iter % 20 == 0:\n",
    "        print(f\"Training loss at iteration {iter}: {cost_value:0.1f}\")"
   ]
  }
 ],
 "metadata": {
  "kernelspec": {
   "display_name": "Python 3 (ipykernel)",
   "language": "python",
   "name": "python3"
  },
  "language_info": {
   "codemirror_mode": {
    "name": "ipython",
    "version": 3
   },
   "file_extension": ".py",
   "mimetype": "text/x-python",
   "name": "python",
   "nbconvert_exporter": "python",
   "pygments_lexer": "ipython3",
   "version": "3.11.4"
  }
 },
 "nbformat": 4,
 "nbformat_minor": 5
}
