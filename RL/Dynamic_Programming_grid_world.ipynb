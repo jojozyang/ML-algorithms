{
 "cells": [
  {
   "cell_type": "markdown",
   "id": "7cd432bf-5125-4929-b316-75b413671fbf",
   "metadata": {},
   "source": [
    "# Dynamic Programming via Policy Iteration \n",
    "\n",
    "In this notebook, a grid world task is solved using dynamic programming via Policy Iteration.\n",
    "\n",
    "The code is adapted from NYU's 'Computational Cognitive Modeling' course to accomplish the homework assignment. \n",
    "\n",
    "\n",
    "# Outline\n",
    "- [ 1 - Import Packages <img align=\"Right\" src=\"https://raw.githubusercontent.com/jojozyang/CCM-site/master/homeworks/homework-RL/images/gridworld.png\" width = 60%>](#1)\n",
    "- [ 2 - Load the Environment](#2)\n",
    "- [ 3 - Main functions](#3)\n",
    "- [ 4 - Helper Functions](#4)\n",
    "- [ 5 - Training](#5)"
   ]
  },
  {
   "cell_type": "markdown",
   "id": "0acb68fa-a7d6-4863-9a38-db78b0cd3e4a",
   "metadata": {},
   "source": [
    "<a name=\"1\"></a>\n",
    "## 1 - Import Packages"
   ]
  },
  {
   "cell_type": "code",
   "execution_count": 15,
   "id": "0f35f67c-e457-4c7e-9b49-b958ee29066c",
   "metadata": {},
   "outputs": [],
   "source": [
    "import numpy as np\n",
    "import random\n",
    "import math\n",
    "import statistics\n",
    "from copy import deepcopy\n",
    "from IPython.display import display, Markdown, Latex, HTML\n",
    "from gridworld import GridWorld, random_policy"
   ]
  },
  {
   "cell_type": "markdown",
   "id": "37be55a2-f327-4eba-987c-ec1deaa8d2ae",
   "metadata": {},
   "source": [
    "<a name=\"2\"></a>\n",
    "## 2 - Load the Environment"
   ]
  },
  {
   "cell_type": "code",
   "execution_count": 10,
   "id": "ac7e6bbf-4834-4ec9-8ec0-c35e060d0858",
   "metadata": {},
   "outputs": [
    {
     "data": {
      "text/markdown": [
       "## Welcome to your new Grid World!"
      ],
      "text/plain": [
       "<IPython.core.display.Markdown object>"
      ]
     },
     "metadata": {},
     "output_type": "display_data"
    },
    {
     "data": {
      "text/markdown": [
       "**Raw World Layout**"
      ],
      "text/plain": [
       "<IPython.core.display.Markdown object>"
      ]
     },
     "metadata": {},
     "output_type": "display_data"
    },
    {
     "data": {
      "text/html": [
       "<table>\n",
       "<tbody>\n",
       "<tr><td>o</td><td>o</td><td>o</td><td>o</td><td>o</td><td>o</td><td>o</td><td>x</td><td>g</td></tr>\n",
       "<tr><td>o</td><td>x</td><td>x</td><td>o</td><td>x</td><td>x</td><td>o</td><td>x</td><td>o</td></tr>\n",
       "<tr><td>o</td><td>x</td><td>x</td><td>o</td><td>x</td><td>x</td><td>o</td><td>x</td><td>o</td></tr>\n",
       "<tr><td>o</td><td>x</td><td>x</td><td>o</td><td>x</td><td>x</td><td>o</td><td>o</td><td>o</td></tr>\n",
       "<tr><td>o</td><td>x</td><td>x</td><td>o</td><td>x</td><td>x</td><td>x</td><td>o</td><td>o</td></tr>\n",
       "<tr><td>s</td><td>o</td><td>o</td><td>o</td><td>o</td><td>o</td><td>o</td><td>o</td><td>x</td></tr>\n",
       "</tbody>\n",
       "</table>"
      ],
      "text/plain": [
       "<IPython.core.display.HTML object>"
      ]
     },
     "metadata": {},
     "output_type": "display_data"
    },
    {
     "data": {
      "text/markdown": [
       "**Indexes of each grid location as an id number**"
      ],
      "text/plain": [
       "<IPython.core.display.Markdown object>"
      ]
     },
     "metadata": {},
     "output_type": "display_data"
    },
    {
     "data": {
      "text/html": [
       "<table>\n",
       "<tbody>\n",
       "<tr><td style=\"text-align: right;\"> 0</td><td style=\"text-align: right;\"> 1</td><td style=\"text-align: right;\"> 2</td><td style=\"text-align: right;\"> 3</td><td style=\"text-align: right;\"> 4</td><td style=\"text-align: right;\"> 5</td><td style=\"text-align: right;\"> 6</td><td style=\"text-align: right;\"> 7</td><td style=\"text-align: right;\"> 8</td></tr>\n",
       "<tr><td style=\"text-align: right;\"> 9</td><td style=\"text-align: right;\">10</td><td style=\"text-align: right;\">11</td><td style=\"text-align: right;\">12</td><td style=\"text-align: right;\">13</td><td style=\"text-align: right;\">14</td><td style=\"text-align: right;\">15</td><td style=\"text-align: right;\">16</td><td style=\"text-align: right;\">17</td></tr>\n",
       "<tr><td style=\"text-align: right;\">18</td><td style=\"text-align: right;\">19</td><td style=\"text-align: right;\">20</td><td style=\"text-align: right;\">21</td><td style=\"text-align: right;\">22</td><td style=\"text-align: right;\">23</td><td style=\"text-align: right;\">24</td><td style=\"text-align: right;\">25</td><td style=\"text-align: right;\">26</td></tr>\n",
       "<tr><td style=\"text-align: right;\">27</td><td style=\"text-align: right;\">28</td><td style=\"text-align: right;\">29</td><td style=\"text-align: right;\">30</td><td style=\"text-align: right;\">31</td><td style=\"text-align: right;\">32</td><td style=\"text-align: right;\">33</td><td style=\"text-align: right;\">34</td><td style=\"text-align: right;\">35</td></tr>\n",
       "<tr><td style=\"text-align: right;\">36</td><td style=\"text-align: right;\">37</td><td style=\"text-align: right;\">38</td><td style=\"text-align: right;\">39</td><td style=\"text-align: right;\">40</td><td style=\"text-align: right;\">41</td><td style=\"text-align: right;\">42</td><td style=\"text-align: right;\">43</td><td style=\"text-align: right;\">44</td></tr>\n",
       "<tr><td style=\"text-align: right;\">45</td><td style=\"text-align: right;\">46</td><td style=\"text-align: right;\">47</td><td style=\"text-align: right;\">48</td><td style=\"text-align: right;\">49</td><td style=\"text-align: right;\">50</td><td style=\"text-align: right;\">51</td><td style=\"text-align: right;\">52</td><td style=\"text-align: right;\">53</td></tr>\n",
       "</tbody>\n",
       "</table>"
      ],
      "text/plain": [
       "<IPython.core.display.HTML object>"
      ]
     },
     "metadata": {},
     "output_type": "display_data"
    },
    {
     "data": {
      "text/markdown": [
       "**Indexes of each grid location as a tuple**"
      ],
      "text/plain": [
       "<IPython.core.display.Markdown object>"
      ]
     },
     "metadata": {},
     "output_type": "display_data"
    },
    {
     "data": {
      "text/html": [
       "<table>\n",
       "<tbody>\n",
       "<tr><td>(0,0)</td><td>(0,1)</td><td>(0,2)</td><td>(0,3)</td><td>(0,4)</td><td>(0,5)</td><td>(0,6)</td><td>(0,7)</td><td>(0,8)</td></tr>\n",
       "<tr><td>(1,0)</td><td>(1,1)</td><td>(1,2)</td><td>(1,3)</td><td>(1,4)</td><td>(1,5)</td><td>(1,6)</td><td>(1,7)</td><td>(1,8)</td></tr>\n",
       "<tr><td>(2,0)</td><td>(2,1)</td><td>(2,2)</td><td>(2,3)</td><td>(2,4)</td><td>(2,5)</td><td>(2,6)</td><td>(2,7)</td><td>(2,8)</td></tr>\n",
       "<tr><td>(3,0)</td><td>(3,1)</td><td>(3,2)</td><td>(3,3)</td><td>(3,4)</td><td>(3,5)</td><td>(3,6)</td><td>(3,7)</td><td>(3,8)</td></tr>\n",
       "<tr><td>(4,0)</td><td>(4,1)</td><td>(4,2)</td><td>(4,3)</td><td>(4,4)</td><td>(4,5)</td><td>(4,6)</td><td>(4,7)</td><td>(4,8)</td></tr>\n",
       "<tr><td>(5,0)</td><td>(5,1)</td><td>(5,2)</td><td>(5,3)</td><td>(5,4)</td><td>(5,5)</td><td>(5,6)</td><td>(5,7)</td><td>(5,8)</td></tr>\n",
       "</tbody>\n",
       "</table>"
      ],
      "text/plain": [
       "<IPython.core.display.HTML object>"
      ]
     },
     "metadata": {},
     "output_type": "display_data"
    }
   ],
   "source": [
    "gridworld = [\n",
    "       [ 'o', 'o', 'o', 'o', 'o', 'o', 'o', 'x', 'g'],\n",
    "       [ 'o', 'x', 'x', 'o', 'x', 'x', 'o', 'x', 'o'],\n",
    "       [ 'o', 'x', 'x', 'o', 'x', 'x', 'o', 'x', 'o'],\n",
    "       [ 'o', 'x', 'x', 'o', 'x', 'x', 'o', 'o', 'o'],\n",
    "       [ 'o', 'x', 'x', 'o', 'x', 'x', 'x', 'o', 'o'],\n",
    "       [ 's', 'o', 'o', 'o', 'o', 'o', 'o', 'o', 'x']\n",
    "    ] # the problem described above, 'x' is a wall, 's' is start, 'g' is goal, and 'o' is a normal room\n",
    "\n",
    "mygrid = GridWorld(gridworld)\n",
    "mygrid.raw_print()  # print out the grid world\n",
    "mygrid.index_print() # print out the indicies of each state\n",
    "mygrid.coord_print() # print out the coordinates of each state (helpful in your code)\n",
    "\n",
    "# define the rewards as a hash table (dictionary)\n",
    "rewards={}\n",
    "\n",
    "# mygrid.transitions contains all the pairwise state-state transitions allowed in the grid\n",
    "# for each state transition intialize the reward to zero\n",
    "for start_state in mygrid.transitions:\n",
    "    for action in mygrid.transitions[start_state].keys():\n",
    "        next_state = mygrid.transitions[start_state][action]\n",
    "        rewards[str([start_state, action, next_state])] = 0.0\n",
    "\n",
    "# now set the reward for moving up into state 8 (the goal state) to +10\n",
    "rewards[str([17, 'up', 8])] = 10\n",
    "\n",
    "# now set the penalty for walking off the edge of the grid and returning to state 45 (the start state)\n",
    "for i in [0,1,2,3,4,5,6,7]:\n",
    "    rewards[str([i, 'up', 45])] = -1\n",
    "for i in [0,9,18,27,36,45]:\n",
    "    rewards[str([i, 'left', 45])] = -1\n",
    "for i in [45,46,47,48,49,50,51,52,53]:\n",
    "    rewards[str([i, 'down', 45])] = -1\n",
    "for i in [8,17,26,35,44,53]:\n",
    "    rewards[str([i, 'right', 45])] = -1"
   ]
  },
  {
   "cell_type": "code",
   "execution_count": 13,
   "id": "c018c479-b775-4291-8341-31eb7e78a0d6",
   "metadata": {},
   "outputs": [
    {
     "data": {
      "text/markdown": [
       "**Current value table for each state**"
      ],
      "text/plain": [
       "<IPython.core.display.Markdown object>"
      ]
     },
     "metadata": {},
     "output_type": "display_data"
    },
    {
     "data": {
      "text/html": [
       "<table>\n",
       "<tbody>\n",
       "<tr><td style=\"text-align: right;\">0</td><td style=\"text-align: right;\">0</td><td style=\"text-align: right;\">0</td><td style=\"text-align: right;\">0</td><td style=\"text-align: right;\">0</td><td style=\"text-align: right;\">0</td><td style=\"text-align: right;\">0</td><td style=\"text-align: right;\">0</td><td style=\"text-align: right;\">0</td></tr>\n",
       "<tr><td style=\"text-align: right;\">0</td><td style=\"text-align: right;\">0</td><td style=\"text-align: right;\">0</td><td style=\"text-align: right;\">0</td><td style=\"text-align: right;\">0</td><td style=\"text-align: right;\">0</td><td style=\"text-align: right;\">0</td><td style=\"text-align: right;\">0</td><td style=\"text-align: right;\">0</td></tr>\n",
       "<tr><td style=\"text-align: right;\">0</td><td style=\"text-align: right;\">0</td><td style=\"text-align: right;\">0</td><td style=\"text-align: right;\">0</td><td style=\"text-align: right;\">0</td><td style=\"text-align: right;\">0</td><td style=\"text-align: right;\">0</td><td style=\"text-align: right;\">0</td><td style=\"text-align: right;\">0</td></tr>\n",
       "<tr><td style=\"text-align: right;\">0</td><td style=\"text-align: right;\">0</td><td style=\"text-align: right;\">0</td><td style=\"text-align: right;\">0</td><td style=\"text-align: right;\">0</td><td style=\"text-align: right;\">0</td><td style=\"text-align: right;\">0</td><td style=\"text-align: right;\">0</td><td style=\"text-align: right;\">0</td></tr>\n",
       "<tr><td style=\"text-align: right;\">0</td><td style=\"text-align: right;\">0</td><td style=\"text-align: right;\">0</td><td style=\"text-align: right;\">0</td><td style=\"text-align: right;\">0</td><td style=\"text-align: right;\">0</td><td style=\"text-align: right;\">0</td><td style=\"text-align: right;\">0</td><td style=\"text-align: right;\">0</td></tr>\n",
       "<tr><td style=\"text-align: right;\">0</td><td style=\"text-align: right;\">0</td><td style=\"text-align: right;\">0</td><td style=\"text-align: right;\">0</td><td style=\"text-align: right;\">0</td><td style=\"text-align: right;\">0</td><td style=\"text-align: right;\">0</td><td style=\"text-align: right;\">0</td><td style=\"text-align: right;\">0</td></tr>\n",
       "</tbody>\n",
       "</table>"
      ],
      "text/plain": [
       "<IPython.core.display.HTML object>"
      ]
     },
     "metadata": {},
     "output_type": "display_data"
    },
    {
     "data": {
      "text/markdown": [
       "**Current (randomized) policy**"
      ],
      "text/plain": [
       "<IPython.core.display.Markdown object>"
      ]
     },
     "metadata": {},
     "output_type": "display_data"
    },
    {
     "data": {
      "text/html": [
       "<table>\n",
       "<tbody>\n",
       "<tr><td>↓</td><td>↑</td><td>→</td><td>↑</td><td>↓</td><td>←</td><td>→</td><td>▉</td><td>←</td></tr>\n",
       "<tr><td>↑</td><td>▉</td><td>▉</td><td>→</td><td>▉</td><td>▉</td><td>→</td><td>▉</td><td>↑</td></tr>\n",
       "<tr><td>↓</td><td>▉</td><td>▉</td><td>←</td><td>▉</td><td>▉</td><td>←</td><td>▉</td><td>→</td></tr>\n",
       "<tr><td>↑</td><td>▉</td><td>▉</td><td>→</td><td>▉</td><td>▉</td><td>↑</td><td>↓</td><td>↑</td></tr>\n",
       "<tr><td>←</td><td>▉</td><td>▉</td><td>↓</td><td>▉</td><td>▉</td><td>▉</td><td>←</td><td>→</td></tr>\n",
       "<tr><td>↓</td><td>←</td><td>↓</td><td>→</td><td>←</td><td>↑</td><td>↓</td><td>↑</td><td>▉</td></tr>\n",
       "</tbody>\n",
       "</table>"
      ],
      "text/plain": [
       "<IPython.core.display.HTML object>"
      ]
     },
     "metadata": {},
     "output_type": "display_data"
    }
   ],
   "source": [
    "# initialize a new value table and a new random policy and uses functions provided in GridWorld to print these out in the notebook in a friendly way\n",
    "value_table=np.zeros((mygrid.nrows,mygrid.ncols))\n",
    "display(Markdown(\"**Current value table for each state**\"))\n",
    "mygrid.pretty_print_table(value_table)\n",
    "\n",
    "policy_table = [[random_policy() for i in range(mygrid.ncols)] for j in range(mygrid.nrows)]\n",
    "display(Markdown(\"**Current (randomized) policy**\"))\n",
    "mygrid.pretty_print_policy_table(policy_table)"
   ]
  },
  {
   "cell_type": "markdown",
   "id": "8a467e6b-1f1e-4746-9a3e-943bc22ea4f1",
   "metadata": {},
   "source": [
    "<a name=\"3\"></a>\n",
    "## 3 - Main functions"
   ]
  },
  {
   "cell_type": "code",
   "execution_count": 11,
   "id": "d82cb779-2fb3-451a-963d-c85072059cb4",
   "metadata": {},
   "outputs": [],
   "source": [
    "def policy_evaluate(mygrid, value_table, policy_table, GAMMA):\n",
    "    valid_states = list(mygrid.valid_states.keys())\n",
    "    random.shuffle(valid_states)\n",
    "\n",
    "    for state in valid_states:\n",
    "        sx,sy = mygrid.index_to_coord(state)\n",
    "        new_value = 0.0\n",
    "        for action in mygrid.transitions[state].keys(): \n",
    "            p_sa = policy_table[sx][sy][action] \n",
    "            if p_sa == 1:\n",
    "                next_state = mygrid.transitions[state][action]\n",
    "                n_sx,n_sy = mygrid.index_to_coord(next_state)\n",
    "                new_value = rewards[str([state,action,next_state])] + GAMMA * value_table[n_sx][n_sy]\n",
    "        value_table[sx][sy] = new_value\n",
    "        \n",
    "# this is a helper function that will take a set of q-values and convert them into a greedy decision strategy        \n",
    "def be_greedy(q_values):\n",
    "    if len(q_values)==0:\n",
    "        return {}\n",
    "    \n",
    "    keys = list(q_values.keys())\n",
    "    vals = [q_values[i] for i in keys]    \n",
    "    maxqs = [i for i,x in enumerate(vals) if x==max(vals)]\n",
    "    if len(maxqs)>1:\n",
    "        pos = random.choice(maxqs)\n",
    "    else:\n",
    "        pos = maxqs[0]\n",
    "    policy = deepcopy(q_values)\n",
    "    for i in policy.keys():\n",
    "        policy[i]=0.0\n",
    "    policy[keys[pos]]=1.0\n",
    "    return policy\n",
    "    \n",
    "def policy_improve(mygrid, value_table, policy_table, GAMMA):\n",
    "    # for each valid state\n",
    "    valid_states = list(mygrid.valid_states.keys())\n",
    "    for state in valid_states:\n",
    "        # compute the Q-values for each action\n",
    "        q_values = {}\n",
    "        for action in mygrid.transitions[state].keys():\n",
    "            next_state = mygrid.transitions[state][action]\n",
    "            n_sx,n_sy = mygrid.index_to_coord(next_state)\n",
    "            qval = rewards[str([state,action,next_state])] + GAMMA * value_table[n_sx][n_sy]\n",
    "            q_values[action] = qval\n",
    "        newpol = be_greedy(q_values) # take this dictionary and convert into a greedy policy\n",
    "        # then update the policy table printing to allow more complex policies\n",
    "        sx,sy = mygrid.index_to_coord(state)\n",
    "        for action in mygrid.transitions[state].keys():\n",
    "            policy_table[sx][sy][action] = newpol[action]"
   ]
  },
  {
   "cell_type": "markdown",
   "id": "daeb09bd-7ae0-44d3-ac6a-964e0dd5aad3",
   "metadata": {},
   "source": [
    "<a name=\"4\"></a>\n",
    "## 4 - Helper functions"
   ]
  },
  {
   "cell_type": "code",
   "execution_count": null,
   "id": "813eecfd-2cd2-4058-a428-c4e3c9523837",
   "metadata": {},
   "outputs": [],
   "source": []
  },
  {
   "cell_type": "markdown",
   "id": "33dfa129-1278-4106-aa00-a38d67bf948e",
   "metadata": {},
   "source": [
    "<a name=\"5\"></a>\n",
    "## 5 - Train the agent"
   ]
  },
  {
   "cell_type": "code",
   "execution_count": 14,
   "id": "7e3bbde8-11d6-4e91-9a00-8fbc4106ce11",
   "metadata": {},
   "outputs": [
    {
     "data": {
      "text/html": [
       "<table>\n",
       "<tbody>\n",
       "<tr><td style=\"text-align: right;\">0</td><td style=\"text-align: right;\">0</td><td style=\"text-align: right;\">0</td><td style=\"text-align: right;\">0</td><td style=\"text-align: right;\">0</td><td style=\"text-align: right;\">0</td><td style=\"text-align: right;\">0</td><td style=\"text-align: right;\">0</td><td style=\"text-align: right;\">0</td></tr>\n",
       "<tr><td style=\"text-align: right;\">0</td><td style=\"text-align: right;\">0</td><td style=\"text-align: right;\">0</td><td style=\"text-align: right;\">0</td><td style=\"text-align: right;\">0</td><td style=\"text-align: right;\">0</td><td style=\"text-align: right;\">0</td><td style=\"text-align: right;\">0</td><td style=\"text-align: right;\">0</td></tr>\n",
       "<tr><td style=\"text-align: right;\">0</td><td style=\"text-align: right;\">0</td><td style=\"text-align: right;\">0</td><td style=\"text-align: right;\">0</td><td style=\"text-align: right;\">0</td><td style=\"text-align: right;\">0</td><td style=\"text-align: right;\">0</td><td style=\"text-align: right;\">0</td><td style=\"text-align: right;\">0</td></tr>\n",
       "<tr><td style=\"text-align: right;\">0</td><td style=\"text-align: right;\">0</td><td style=\"text-align: right;\">0</td><td style=\"text-align: right;\">0</td><td style=\"text-align: right;\">0</td><td style=\"text-align: right;\">0</td><td style=\"text-align: right;\">0</td><td style=\"text-align: right;\">0</td><td style=\"text-align: right;\">0</td></tr>\n",
       "<tr><td style=\"text-align: right;\">0</td><td style=\"text-align: right;\">0</td><td style=\"text-align: right;\">0</td><td style=\"text-align: right;\">0</td><td style=\"text-align: right;\">0</td><td style=\"text-align: right;\">0</td><td style=\"text-align: right;\">0</td><td style=\"text-align: right;\">0</td><td style=\"text-align: right;\">0</td></tr>\n",
       "<tr><td style=\"text-align: right;\">0</td><td style=\"text-align: right;\">0</td><td style=\"text-align: right;\">0</td><td style=\"text-align: right;\">0</td><td style=\"text-align: right;\">0</td><td style=\"text-align: right;\">0</td><td style=\"text-align: right;\">0</td><td style=\"text-align: right;\">0</td><td style=\"text-align: right;\">0</td></tr>\n",
       "</tbody>\n",
       "</table>"
      ],
      "text/plain": [
       "<IPython.core.display.HTML object>"
      ]
     },
     "metadata": {},
     "output_type": "display_data"
    },
    {
     "data": {
      "text/html": [
       "<table>\n",
       "<tbody>\n",
       "<tr><td>↓</td><td>↑</td><td>→</td><td>↑</td><td>↓</td><td>←</td><td>→</td><td>▉</td><td>←</td></tr>\n",
       "<tr><td>↑</td><td>▉</td><td>▉</td><td>→</td><td>▉</td><td>▉</td><td>→</td><td>▉</td><td>↑</td></tr>\n",
       "<tr><td>↓</td><td>▉</td><td>▉</td><td>←</td><td>▉</td><td>▉</td><td>←</td><td>▉</td><td>→</td></tr>\n",
       "<tr><td>↑</td><td>▉</td><td>▉</td><td>→</td><td>▉</td><td>▉</td><td>↑</td><td>↓</td><td>↑</td></tr>\n",
       "<tr><td>←</td><td>▉</td><td>▉</td><td>↓</td><td>▉</td><td>▉</td><td>▉</td><td>←</td><td>→</td></tr>\n",
       "<tr><td>↓</td><td>←</td><td>↓</td><td>→</td><td>←</td><td>↑</td><td>↓</td><td>↑</td><td>▉</td></tr>\n",
       "</tbody>\n",
       "</table>"
      ],
      "text/plain": [
       "<IPython.core.display.HTML object>"
      ]
     },
     "metadata": {},
     "output_type": "display_data"
    },
    {
     "data": {
      "text/html": [
       "<table>\n",
       "<tbody>\n",
       "<tr><td style=\"text-align: right;\">2.54187</td><td style=\"text-align: right;\">2.8243 </td><td style=\"text-align: right;\">3.13811</td><td style=\"text-align: right;\">3.48678</td><td style=\"text-align: right;\">3.8742 </td><td style=\"text-align: right;\">4.30467</td><td style=\"text-align: right;\">4.78297</td><td style=\"text-align: right;\">0     </td><td style=\"text-align: right;\"> 0   </td></tr>\n",
       "<tr><td style=\"text-align: right;\">2.28768</td><td style=\"text-align: right;\">0      </td><td style=\"text-align: right;\">0      </td><td style=\"text-align: right;\">3.13811</td><td style=\"text-align: right;\">0      </td><td style=\"text-align: right;\">0      </td><td style=\"text-align: right;\">5.31441</td><td style=\"text-align: right;\">0     </td><td style=\"text-align: right;\">10   </td></tr>\n",
       "<tr><td style=\"text-align: right;\">2.05891</td><td style=\"text-align: right;\">0      </td><td style=\"text-align: right;\">0      </td><td style=\"text-align: right;\">2.8243 </td><td style=\"text-align: right;\">0      </td><td style=\"text-align: right;\">0      </td><td style=\"text-align: right;\">5.9049 </td><td style=\"text-align: right;\">0     </td><td style=\"text-align: right;\"> 9   </td></tr>\n",
       "<tr><td style=\"text-align: right;\">2.28768</td><td style=\"text-align: right;\">0      </td><td style=\"text-align: right;\">0      </td><td style=\"text-align: right;\">3.13811</td><td style=\"text-align: right;\">0      </td><td style=\"text-align: right;\">0      </td><td style=\"text-align: right;\">6.561  </td><td style=\"text-align: right;\">7.29  </td><td style=\"text-align: right;\"> 8.1 </td></tr>\n",
       "<tr><td style=\"text-align: right;\">2.54187</td><td style=\"text-align: right;\">0      </td><td style=\"text-align: right;\">0      </td><td style=\"text-align: right;\">3.48678</td><td style=\"text-align: right;\">0      </td><td style=\"text-align: right;\">0      </td><td style=\"text-align: right;\">0      </td><td style=\"text-align: right;\">6.561 </td><td style=\"text-align: right;\"> 7.29</td></tr>\n",
       "<tr><td style=\"text-align: right;\">2.8243 </td><td style=\"text-align: right;\">3.13811</td><td style=\"text-align: right;\">3.48678</td><td style=\"text-align: right;\">3.8742 </td><td style=\"text-align: right;\">4.30467</td><td style=\"text-align: right;\">4.78297</td><td style=\"text-align: right;\">5.31441</td><td style=\"text-align: right;\">5.9049</td><td style=\"text-align: right;\"> 0   </td></tr>\n",
       "</tbody>\n",
       "</table>"
      ],
      "text/plain": [
       "<IPython.core.display.HTML object>"
      ]
     },
     "metadata": {},
     "output_type": "display_data"
    },
    {
     "data": {
      "text/html": [
       "<table>\n",
       "<tbody>\n",
       "<tr><td>→</td><td>→</td><td>→</td><td>→</td><td>→</td><td>→</td><td>↓</td><td>▉</td><td>←</td></tr>\n",
       "<tr><td>↑</td><td>▉</td><td>▉</td><td>↑</td><td>▉</td><td>▉</td><td>↓</td><td>▉</td><td>↑</td></tr>\n",
       "<tr><td>↓</td><td>▉</td><td>▉</td><td>↑</td><td>▉</td><td>▉</td><td>↓</td><td>▉</td><td>↑</td></tr>\n",
       "<tr><td>↓</td><td>▉</td><td>▉</td><td>↓</td><td>▉</td><td>▉</td><td>→</td><td>→</td><td>↑</td></tr>\n",
       "<tr><td>↓</td><td>▉</td><td>▉</td><td>↓</td><td>▉</td><td>▉</td><td>▉</td><td>↑</td><td>↑</td></tr>\n",
       "<tr><td>→</td><td>→</td><td>→</td><td>→</td><td>→</td><td>→</td><td>→</td><td>↑</td><td>▉</td></tr>\n",
       "</tbody>\n",
       "</table>"
      ],
      "text/plain": [
       "<IPython.core.display.HTML object>"
      ]
     },
     "metadata": {},
     "output_type": "display_data"
    }
   ],
   "source": [
    "mygrid.pretty_print_table(value_table)\n",
    "mygrid.pretty_print_policy_table(policy_table)\n",
    "\n",
    "GAMMA = 0.9 # Discount factor \n",
    "for i in range(2000):\n",
    "    policy_evaluate(mygrid, value_table, policy_table, GAMMA)\n",
    "    policy_improve(mygrid, value_table, policy_table, GAMMA)\n",
    "\n",
    "mygrid.pretty_print_table(value_table)\n",
    "mygrid.pretty_print_policy_table(policy_table)"
   ]
  },
  {
   "cell_type": "code",
   "execution_count": null,
   "id": "353c2aac-0192-49f4-b0ad-fb90dc1c3551",
   "metadata": {},
   "outputs": [],
   "source": []
  },
  {
   "cell_type": "code",
   "execution_count": null,
   "id": "57e3cdc8-33f4-4c7b-97f7-82d78600bd00",
   "metadata": {},
   "outputs": [],
   "source": []
  }
 ],
 "metadata": {
  "kernelspec": {
   "display_name": "Python 3 (ipykernel)",
   "language": "python",
   "name": "python3"
  },
  "language_info": {
   "codemirror_mode": {
    "name": "ipython",
    "version": 3
   },
   "file_extension": ".py",
   "mimetype": "text/x-python",
   "name": "python",
   "nbconvert_exporter": "python",
   "pygments_lexer": "ipython3",
   "version": "3.11.4"
  }
 },
 "nbformat": 4,
 "nbformat_minor": 5
}
