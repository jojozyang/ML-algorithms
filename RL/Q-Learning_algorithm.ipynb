{
 "cells": [
  {
   "cell_type": "markdown",
   "id": "7cd432bf-5125-4929-b316-75b413671fbf",
   "metadata": {},
   "source": [
    "# Q-Learning\n",
    "\n",
    "In this notebook, an agent is trained to solve a grid world task via a Q-Learning algorithm.\n",
    "\n",
    "The code is adapted from NYU's 'Computational Cognitive Modeling' course to accomplish the homework assignment. \n",
    "\n",
    "\n",
    "# Outline\n",
    "- [ 1 - Import Packages <img align=\"Right\" src=\"https://raw.githubusercontent.com/jojozyang/CCM-site/master/homeworks/homework-RL/images/gridworld.png\" width = 60%>](#1)\n",
    "- [ 2 - Load the Environment](#2)\n",
    "- [ 3 - Main Functions](#3)\n",
    "- [ 4 - Helper Functions](#4)\n",
    "- [ 5 - Train the Agent](#5)"
   ]
  },
  {
   "cell_type": "markdown",
   "id": "0acb68fa-a7d6-4863-9a38-db78b0cd3e4a",
   "metadata": {},
   "source": [
    "<a name=\"1\"></a>\n",
    "## 1 - Import Packages"
   ]
  },
  {
   "cell_type": "code",
   "execution_count": 1,
   "id": "1e84c814-809c-40b7-817b-ee37a92e7522",
   "metadata": {},
   "outputs": [],
   "source": [
    "import numpy as np\n",
    "import random\n",
    "import math\n",
    "import statistics\n",
    "from copy import deepcopy\n",
    "from IPython.display import display, Markdown, Latex, HTML\n",
    "from gridworld import GridWorld, random_policy"
   ]
  },
  {
   "cell_type": "markdown",
   "id": "57f64687-942a-42f0-b58b-c8d5167fbf12",
   "metadata": {},
   "source": [
    "<a name=\"2\"></a>\n",
    "## 2 - Load the Environment"
   ]
  },
  {
   "cell_type": "code",
   "execution_count": 2,
   "id": "57efaa13-0d15-4a17-8927-a58a791f9a84",
   "metadata": {},
   "outputs": [
    {
     "data": {
      "text/markdown": [
       "## Welcome to your new Grid World!"
      ],
      "text/plain": [
       "<IPython.core.display.Markdown object>"
      ]
     },
     "metadata": {},
     "output_type": "display_data"
    },
    {
     "data": {
      "text/markdown": [
       "**Raw World Layout**"
      ],
      "text/plain": [
       "<IPython.core.display.Markdown object>"
      ]
     },
     "metadata": {},
     "output_type": "display_data"
    },
    {
     "data": {
      "text/html": [
       "<table>\n",
       "<tbody>\n",
       "<tr><td>o</td><td>o</td><td>o</td><td>o</td><td>o</td><td>o</td><td>o</td><td>x</td><td>g</td></tr>\n",
       "<tr><td>o</td><td>x</td><td>x</td><td>o</td><td>x</td><td>x</td><td>o</td><td>x</td><td>o</td></tr>\n",
       "<tr><td>o</td><td>x</td><td>x</td><td>o</td><td>x</td><td>x</td><td>o</td><td>x</td><td>o</td></tr>\n",
       "<tr><td>o</td><td>x</td><td>x</td><td>o</td><td>x</td><td>x</td><td>o</td><td>o</td><td>o</td></tr>\n",
       "<tr><td>o</td><td>x</td><td>x</td><td>o</td><td>x</td><td>x</td><td>x</td><td>o</td><td>o</td></tr>\n",
       "<tr><td>s</td><td>o</td><td>o</td><td>o</td><td>o</td><td>o</td><td>o</td><td>o</td><td>x</td></tr>\n",
       "</tbody>\n",
       "</table>"
      ],
      "text/plain": [
       "<IPython.core.display.HTML object>"
      ]
     },
     "metadata": {},
     "output_type": "display_data"
    },
    {
     "data": {
      "text/markdown": [
       "**Indexes of each grid location as an id number**"
      ],
      "text/plain": [
       "<IPython.core.display.Markdown object>"
      ]
     },
     "metadata": {},
     "output_type": "display_data"
    },
    {
     "data": {
      "text/html": [
       "<table>\n",
       "<tbody>\n",
       "<tr><td style=\"text-align: right;\"> 0</td><td style=\"text-align: right;\"> 1</td><td style=\"text-align: right;\"> 2</td><td style=\"text-align: right;\"> 3</td><td style=\"text-align: right;\"> 4</td><td style=\"text-align: right;\"> 5</td><td style=\"text-align: right;\"> 6</td><td style=\"text-align: right;\"> 7</td><td style=\"text-align: right;\"> 8</td></tr>\n",
       "<tr><td style=\"text-align: right;\"> 9</td><td style=\"text-align: right;\">10</td><td style=\"text-align: right;\">11</td><td style=\"text-align: right;\">12</td><td style=\"text-align: right;\">13</td><td style=\"text-align: right;\">14</td><td style=\"text-align: right;\">15</td><td style=\"text-align: right;\">16</td><td style=\"text-align: right;\">17</td></tr>\n",
       "<tr><td style=\"text-align: right;\">18</td><td style=\"text-align: right;\">19</td><td style=\"text-align: right;\">20</td><td style=\"text-align: right;\">21</td><td style=\"text-align: right;\">22</td><td style=\"text-align: right;\">23</td><td style=\"text-align: right;\">24</td><td style=\"text-align: right;\">25</td><td style=\"text-align: right;\">26</td></tr>\n",
       "<tr><td style=\"text-align: right;\">27</td><td style=\"text-align: right;\">28</td><td style=\"text-align: right;\">29</td><td style=\"text-align: right;\">30</td><td style=\"text-align: right;\">31</td><td style=\"text-align: right;\">32</td><td style=\"text-align: right;\">33</td><td style=\"text-align: right;\">34</td><td style=\"text-align: right;\">35</td></tr>\n",
       "<tr><td style=\"text-align: right;\">36</td><td style=\"text-align: right;\">37</td><td style=\"text-align: right;\">38</td><td style=\"text-align: right;\">39</td><td style=\"text-align: right;\">40</td><td style=\"text-align: right;\">41</td><td style=\"text-align: right;\">42</td><td style=\"text-align: right;\">43</td><td style=\"text-align: right;\">44</td></tr>\n",
       "<tr><td style=\"text-align: right;\">45</td><td style=\"text-align: right;\">46</td><td style=\"text-align: right;\">47</td><td style=\"text-align: right;\">48</td><td style=\"text-align: right;\">49</td><td style=\"text-align: right;\">50</td><td style=\"text-align: right;\">51</td><td style=\"text-align: right;\">52</td><td style=\"text-align: right;\">53</td></tr>\n",
       "</tbody>\n",
       "</table>"
      ],
      "text/plain": [
       "<IPython.core.display.HTML object>"
      ]
     },
     "metadata": {},
     "output_type": "display_data"
    },
    {
     "data": {
      "text/markdown": [
       "**Indexes of each grid location as a tuple**"
      ],
      "text/plain": [
       "<IPython.core.display.Markdown object>"
      ]
     },
     "metadata": {},
     "output_type": "display_data"
    },
    {
     "data": {
      "text/html": [
       "<table>\n",
       "<tbody>\n",
       "<tr><td>(0,0)</td><td>(0,1)</td><td>(0,2)</td><td>(0,3)</td><td>(0,4)</td><td>(0,5)</td><td>(0,6)</td><td>(0,7)</td><td>(0,8)</td></tr>\n",
       "<tr><td>(1,0)</td><td>(1,1)</td><td>(1,2)</td><td>(1,3)</td><td>(1,4)</td><td>(1,5)</td><td>(1,6)</td><td>(1,7)</td><td>(1,8)</td></tr>\n",
       "<tr><td>(2,0)</td><td>(2,1)</td><td>(2,2)</td><td>(2,3)</td><td>(2,4)</td><td>(2,5)</td><td>(2,6)</td><td>(2,7)</td><td>(2,8)</td></tr>\n",
       "<tr><td>(3,0)</td><td>(3,1)</td><td>(3,2)</td><td>(3,3)</td><td>(3,4)</td><td>(3,5)</td><td>(3,6)</td><td>(3,7)</td><td>(3,8)</td></tr>\n",
       "<tr><td>(4,0)</td><td>(4,1)</td><td>(4,2)</td><td>(4,3)</td><td>(4,4)</td><td>(4,5)</td><td>(4,6)</td><td>(4,7)</td><td>(4,8)</td></tr>\n",
       "<tr><td>(5,0)</td><td>(5,1)</td><td>(5,2)</td><td>(5,3)</td><td>(5,4)</td><td>(5,5)</td><td>(5,6)</td><td>(5,7)</td><td>(5,8)</td></tr>\n",
       "</tbody>\n",
       "</table>"
      ],
      "text/plain": [
       "<IPython.core.display.HTML object>"
      ]
     },
     "metadata": {},
     "output_type": "display_data"
    }
   ],
   "source": [
    "gridworld = [\n",
    "       [ 'o', 'o', 'o', 'o', 'o', 'o', 'o', 'x', 'g'],\n",
    "       [ 'o', 'x', 'x', 'o', 'x', 'x', 'o', 'x', 'o'],\n",
    "       [ 'o', 'x', 'x', 'o', 'x', 'x', 'o', 'x', 'o'],\n",
    "       [ 'o', 'x', 'x', 'o', 'x', 'x', 'o', 'o', 'o'],\n",
    "       [ 'o', 'x', 'x', 'o', 'x', 'x', 'x', 'o', 'o'],\n",
    "       [ 's', 'o', 'o', 'o', 'o', 'o', 'o', 'o', 'x']\n",
    "    ] # the problem described above, 'x' is a wall, 's' is start, 'g' is goal, and 'o' is a normal room\n",
    "\n",
    "mygrid = GridWorld(gridworld)\n",
    "mygrid.raw_print()  # print out the grid world\n",
    "mygrid.index_print() # print out the indicies of each state\n",
    "mygrid.coord_print() # print out the coordinates of each state (helpful in your code)\n",
    "\n",
    "# define the rewards as a hash table (dictionary)\n",
    "rewards={}\n",
    "\n",
    "# mygrid.transitions contains all the pairwise state-state transitions allowed in the grid\n",
    "# for each state transition intialize the reward to zero\n",
    "for start_state in mygrid.transitions:\n",
    "    for action in mygrid.transitions[start_state].keys():\n",
    "        next_state = mygrid.transitions[start_state][action]\n",
    "        rewards[str([start_state, action, next_state])] = 0.0\n",
    "\n",
    "# now set the reward for moving up into state 8 (the goal state) to +10\n",
    "rewards[str([17, 'up', 8])] = 10\n",
    "\n",
    "# now set the penalty for walking off the edge of the grid and returning to state 45 (the start state)\n",
    "for i in [0,1,2,3,4,5,6,7]:\n",
    "    rewards[str([i, 'up', 45])] = -1\n",
    "for i in [0,9,18,27,36,45]:\n",
    "    rewards[str([i, 'left', 45])] = -1\n",
    "for i in [45,46,47,48,49,50,51,52,53]:\n",
    "    rewards[str([i, 'down', 45])] = -1\n",
    "for i in [8,17,26,35,44,53]:\n",
    "    rewards[str([i, 'right', 45])] = -1"
   ]
  },
  {
   "cell_type": "code",
   "execution_count": 37,
   "id": "f7c0321c-7f97-48ca-9926-c937cb17d582",
   "metadata": {},
   "outputs": [
    {
     "data": {
      "text/markdown": [
       "**Initial (randomized) policy**"
      ],
      "text/plain": [
       "<IPython.core.display.Markdown object>"
      ]
     },
     "metadata": {},
     "output_type": "display_data"
    },
    {
     "data": {
      "text/html": [
       "<table>\n",
       "<tbody>\n",
       "<tr><td>↓</td><td>→</td><td>→</td><td>→</td><td>↑</td><td>←</td><td>←</td><td>▉</td><td>↓</td></tr>\n",
       "<tr><td>→</td><td>▉</td><td>▉</td><td>↓</td><td>▉</td><td>▉</td><td>↑</td><td>▉</td><td>←</td></tr>\n",
       "<tr><td>→</td><td>▉</td><td>▉</td><td>↑</td><td>▉</td><td>▉</td><td>↑</td><td>▉</td><td>←</td></tr>\n",
       "<tr><td>↓</td><td>▉</td><td>▉</td><td>↑</td><td>▉</td><td>▉</td><td>↑</td><td>→</td><td>→</td></tr>\n",
       "<tr><td>→</td><td>▉</td><td>▉</td><td>↑</td><td>▉</td><td>▉</td><td>▉</td><td>→</td><td>←</td></tr>\n",
       "<tr><td>↑</td><td>←</td><td>←</td><td>↑</td><td>→</td><td>←</td><td>↓</td><td>←</td><td>▉</td></tr>\n",
       "</tbody>\n",
       "</table>"
      ],
      "text/plain": [
       "<IPython.core.display.HTML object>"
      ]
     },
     "metadata": {},
     "output_type": "display_data"
    }
   ],
   "source": [
    "# set up initial data strucutres \n",
    "# q(s,a) - the q-values for each action in each state\n",
    "def zero_q_values():\n",
    "    qvals = {\"up\": 0.0, \"right\": 0.0, \"down\": 0.0, \"left\": 0.0}\n",
    "    return qvals\n",
    "q_value_table = [[zero_q_values() for i in range(mygrid.ncols)] for j in range(mygrid.nrows)]\n",
    "\n",
    "# pi - the policy table\n",
    "policy_table = [[random_policy() for i in range(mygrid.ncols)] for j in range(mygrid.nrows)]\n",
    "display(Markdown(\"**Initial (randomized) policy**\"))\n",
    "mygrid.pretty_print_policy_table(policy_table)"
   ]
  },
  {
   "cell_type": "markdown",
   "id": "acc4efa5-b583-494a-987e-6cc45183d2eb",
   "metadata": {},
   "source": [
    "<a name=\"3\"></a>\n",
    "## 3 - Main Functions"
   ]
  },
  {
   "cell_type": "code",
   "execution_count": 26,
   "id": "3ad6b49a-ec37-4ba4-813d-a4af41da8857",
   "metadata": {},
   "outputs": [],
   "source": [
    "def be_greedy(q_values):\n",
    "    if len(q_values)==0:\n",
    "        return {}\n",
    "    \n",
    "    keys = list(q_values.keys())\n",
    "    vals = [q_values[i] for i in keys]    \n",
    "    maxqs = [i for i,x in enumerate(vals) if x==max(vals)]\n",
    "    if len(maxqs)>1:\n",
    "        pos = random.choice(maxqs)\n",
    "    else:\n",
    "        pos = maxqs[0]\n",
    "    policy = deepcopy(q_values)\n",
    "    for i in policy.keys():\n",
    "        policy[i]=0.0\n",
    "    policy[keys[pos]]=1.0\n",
    "    return policy\n",
    "    \n",
    "def epsilon_greedy(actions, epsilon):\n",
    "    if random.random() < epsilon:\n",
    "        return random.choice(list(actions.keys()))\n",
    "    else:\n",
    "        if actions['up'] == 1.0:\n",
    "            return 'up'\n",
    "        elif actions['right'] == 1.0:\n",
    "            return 'right'\n",
    "        elif actions['down'] == 1.0:\n",
    "            return 'down'\n",
    "        elif actions['left'] == 1.0:\n",
    "            return 'left'"
   ]
  },
  {
   "cell_type": "markdown",
   "id": "6a19bf52-5928-49ac-af2f-4b1ef04625fa",
   "metadata": {},
   "source": [
    "<a name=\"4\"></a>\n",
    "## 4 - Helper Functions"
   ]
  },
  {
   "cell_type": "markdown",
   "id": "a3070b3b-34e3-4894-8b4d-41a9959fe580",
   "metadata": {},
   "source": [
    "<a name=\"5\"></a>\n",
    "## 5 - Train the Agent"
   ]
  },
  {
   "cell_type": "code",
   "execution_count": 43,
   "id": "99842a8c-998a-4862-b792-456f3e0afc0f",
   "metadata": {
    "scrolled": true
   },
   "outputs": [
    {
     "data": {
      "text/markdown": [
       "**Improved policy**"
      ],
      "text/plain": [
       "<IPython.core.display.Markdown object>"
      ]
     },
     "metadata": {},
     "output_type": "display_data"
    },
    {
     "data": {
      "text/html": [
       "<table>\n",
       "<tbody>\n",
       "<tr><td>→</td><td>→</td><td>→</td><td>→</td><td>→</td><td>→</td><td>↓</td><td>▉</td><td>←</td></tr>\n",
       "<tr><td>↑</td><td>▉</td><td>▉</td><td>↑</td><td>▉</td><td>▉</td><td>↓</td><td>▉</td><td>↑</td></tr>\n",
       "<tr><td>↓</td><td>▉</td><td>▉</td><td>↓</td><td>▉</td><td>▉</td><td>↓</td><td>▉</td><td>↑</td></tr>\n",
       "<tr><td>↓</td><td>▉</td><td>▉</td><td>↓</td><td>▉</td><td>▉</td><td>→</td><td>→</td><td>↑</td></tr>\n",
       "<tr><td>↓</td><td>▉</td><td>▉</td><td>↓</td><td>▉</td><td>▉</td><td>▉</td><td>→</td><td>↑</td></tr>\n",
       "<tr><td>→</td><td>→</td><td>→</td><td>→</td><td>→</td><td>→</td><td>→</td><td>↑</td><td>▉</td></tr>\n",
       "</tbody>\n",
       "</table>"
      ],
      "text/plain": [
       "<IPython.core.display.HTML object>"
      ]
     },
     "metadata": {},
     "output_type": "display_data"
    }
   ],
   "source": [
    "starting_state = 45\n",
    "goal_state = 8 # terminate the MC roll out when getting to this state\n",
    "GAMMA = 0.95\n",
    "epsilon = 0.1\n",
    "ITERATIONS = 10000 \n",
    "max_depth = 120\n",
    "alpha = 1e-3 \n",
    "start_itr = 130 # improve policy only after certain iterations\n",
    "random.seed(5000) \n",
    "\n",
    "returns = {} ## key is (state, action), values are N, the number of visits for a (s,a) pair\n",
    "for i in range(ITERATIONS):  \n",
    "    # \"exploring start\": Agent starts in a random valid state\n",
    "    current_state = random.choice(list(mygrid.valid_states.keys())) \n",
    "    depth = 0 \n",
    "    if current_state != goal_state and depth < max_depth:\n",
    "        sx, sy = mygrid.index_to_coord(current_state)\n",
    "        action = epsilon_greedy(policy_table[sx][sy],epsilon)\n",
    "        if action == 'up':\n",
    "            new_state = mygrid.up(current_state)\n",
    "        elif action == 'right':\n",
    "            new_state = mygrid.right(current_state)\n",
    "        elif action == 'down':\n",
    "            new_state = mygrid.down(current_state)\n",
    "        elif action == 'left':\n",
    "            new_state = mygrid.left(current_state)\n",
    "        r = rewards[str([current_state,action,new_state])]       \n",
    "   \n",
    "        sx, sy = mygrid.index_to_coord(current_state)\n",
    "        sx_new, sy_new = mygrid.index_to_coord(new_state)\n",
    "        \n",
    "        # find max q values for the new state \n",
    "        for idx, n_action in enumerate(list(policy_table[sx_new][sy_new].keys())): \n",
    "            q_new =  q_value_table[sx_new][sy_new][n_action]\n",
    "            if idx == 0:\n",
    "                max_q = q_new\n",
    "            else:\n",
    "                if q_new > max_q: \n",
    "                    max_q = q_new\n",
    "                    \n",
    "        # update q value table \n",
    "        q_value_table[sx][sy][action] += alpha * (r + GAMMA * max_q - q_value_table[sx][sy][action]) \n",
    "            \n",
    "        # improve policy only after some iterations:\n",
    "        if i >= start_itr: \n",
    "            for sx in range(len(q_value_table)):\n",
    "                for sy in range(len(q_value_table[sx])):\n",
    "                    policy_table[sx][sy] = be_greedy(q_value_table[sx][sy])\n",
    "                \n",
    "        current_state = new_state\n",
    "        depth += 1\n",
    "    \n",
    "display(Markdown(\"**Improved policy**\"))\n",
    "mygrid.pretty_print_policy_table(policy_table)"
   ]
  },
  {
   "cell_type": "code",
   "execution_count": null,
   "id": "c9f50cc0-dbdb-4c8f-a686-fa5433a89b1b",
   "metadata": {},
   "outputs": [],
   "source": []
  }
 ],
 "metadata": {
  "kernelspec": {
   "display_name": "Python 3 (ipykernel)",
   "language": "python",
   "name": "python3"
  },
  "language_info": {
   "codemirror_mode": {
    "name": "ipython",
    "version": 3
   },
   "file_extension": ".py",
   "mimetype": "text/x-python",
   "name": "python",
   "nbconvert_exporter": "python",
   "pygments_lexer": "ipython3",
   "version": "3.11.4"
  }
 },
 "nbformat": 4,
 "nbformat_minor": 5
}
